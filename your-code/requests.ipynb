{
 "cells": [
  {
   "cell_type": "code",
   "execution_count": 1,
   "id": "0d766d2b",
   "metadata": {},
   "outputs": [],
   "source": [
    "import requests\n",
    "import random\n",
    "\n",
    "new_employee = {\n",
    "    \"emp_no\": random.randint(9999999, 9999999),\n",
    "    \"birth_date\": \"1994-11-07\",\n",
    "    \"first_name\": \"Paula\",\n",
    "    \"last_name\": \"Gonzalez\",\n",
    "    \"gender\":\"F\",\n",
    "    \"hire_date\": \"2015-02-09\"} "
   ]
  },
  {
   "cell_type": "code",
   "execution_count": 4,
   "id": "7637a221",
   "metadata": {},
   "outputs": [
    {
     "data": {
      "text/plain": [
       "<Response [200]>"
      ]
     },
     "execution_count": 4,
     "metadata": {},
     "output_type": "execute_result"
    }
   ],
   "source": [
    "requests.post(\"http://127.0.0.1:9000/insert-into-employees\", params=new_employee)"
   ]
  },
  {
   "cell_type": "code",
   "execution_count": null,
   "id": "3c051f81",
   "metadata": {},
   "outputs": [],
   "source": []
  }
 ],
 "metadata": {
  "kernelspec": {
   "display_name": "ironhack",
   "language": "python",
   "name": "ironhack"
  },
  "language_info": {
   "codemirror_mode": {
    "name": "ipython",
    "version": 3
   },
   "file_extension": ".py",
   "mimetype": "text/x-python",
   "name": "python",
   "nbconvert_exporter": "python",
   "pygments_lexer": "ipython3",
   "version": "3.10.9"
  }
 },
 "nbformat": 4,
 "nbformat_minor": 5
}
