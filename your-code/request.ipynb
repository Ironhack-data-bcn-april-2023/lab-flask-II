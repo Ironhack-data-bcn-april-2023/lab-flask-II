{
 "cells": [
  {
   "cell_type": "code",
   "execution_count": 1,
   "id": "ed1c9ab2",
   "metadata": {},
   "outputs": [],
   "source": [
    "import requests\n",
    "import random\n"
   ]
  },
  {
   "cell_type": "code",
   "execution_count": 2,
   "id": "28685f70",
   "metadata": {},
   "outputs": [],
   "source": [
    "new_employee = {\n",
    "    \"emp_no\": random.randint(9999999, 9999999),\n",
    "    \"birth_date\": \"1953-09-02\",\n",
    "    \"first_name\": \"Paul\",\n",
    "    \"last_name\": \"Bancelin\",\n",
    "    \"gender\":\"M\",\n",
    "    \"hire_date\": \"1986-06-26\"} "
   ]
  },
  {
   "cell_type": "code",
   "execution_count": 4,
   "id": "5c85e606",
   "metadata": {},
   "outputs": [
    {
     "data": {
      "text/plain": [
       "<Response [200]>"
      ]
     },
     "execution_count": 4,
     "metadata": {},
     "output_type": "execute_result"
    }
   ],
   "source": [
    "res=requests.post(\"http://127.0.0.1:9000/insert-into-employees\", params = new_employee)\n",
    "res"
   ]
  },
  {
   "cell_type": "code",
   "execution_count": 5,
   "id": "2fc75a03",
   "metadata": {},
   "outputs": [
    {
     "data": {
      "text/plain": [
       "<Response [200]>"
      ]
     },
     "execution_count": 5,
     "metadata": {},
     "output_type": "execute_result"
    }
   ],
   "source": [
    "res"
   ]
  },
  {
   "cell_type": "code",
   "execution_count": null,
   "id": "c553fac6",
   "metadata": {},
   "outputs": [],
   "source": []
  }
 ],
 "metadata": {
  "kernelspec": {
   "display_name": "ironhack",
   "language": "python",
   "name": "ironhack"
  },
  "language_info": {
   "codemirror_mode": {
    "name": "ipython",
    "version": 3
   },
   "file_extension": ".py",
   "mimetype": "text/x-python",
   "name": "python",
   "nbconvert_exporter": "python",
   "pygments_lexer": "ipython3",
   "version": "3.10.9"
  }
 },
 "nbformat": 4,
 "nbformat_minor": 5
}
